{
  "nbformat": 4,
  "nbformat_minor": 0,
  "metadata": {
    "colab": {
      "provenance": [],
      "authorship_tag": "ABX9TyPO07wdWmlgwS/j4xRQvpU2",
      "include_colab_link": true
    },
    "kernelspec": {
      "name": "python3",
      "display_name": "Python 3"
    },
    "language_info": {
      "name": "python"
    }
  },
  "cells": [
    {
      "cell_type": "markdown",
      "metadata": {
        "id": "view-in-github",
        "colab_type": "text"
      },
      "source": [
        "<a href=\"https://colab.research.google.com/github/wilrodmo0576/curso-algebra-lineal/blob/master/Sort_Test.ipynb\" target=\"_parent\"><img src=\"https://colab.research.google.com/assets/colab-badge.svg\" alt=\"Open In Colab\"/></a>"
      ]
    },
    {
      "cell_type": "code",
      "execution_count": 5,
      "metadata": {
        "colab": {
          "base_uri": "https://localhost:8080/"
        },
        "id": "EL1ONljevNOL",
        "outputId": "a75f7936-92f7-47d0-8aad-57fd1ed9dcf9"
      },
      "outputs": [
        {
          "output_type": "stream",
          "name": "stdout",
          "text": [
            "Requirement already satisfied: sorting in /usr/local/lib/python3.10/dist-packages (1.0.3)\n",
            "[2, 4, 5, 23, 32, 53, 67]\n",
            "Collecting python-dotenv\n",
            "  Downloading python_dotenv-1.0.1-py3-none-any.whl.metadata (23 kB)\n",
            "Downloading python_dotenv-1.0.1-py3-none-any.whl (19 kB)\n",
            "Installing collected packages: python-dotenv\n",
            "Successfully installed python-dotenv-1.0.1\n"
          ]
        },
        {
          "output_type": "execute_result",
          "data": {
            "text/plain": [
              "32768"
            ]
          },
          "metadata": {},
          "execution_count": 5
        }
      ],
      "source": [
        "!pip install sorting\n",
        "import sorting\n",
        "lista = [4,5,32,2,53,67,23]\n",
        "lista_ordenada = sorting.bubble(lista)\n",
        "print(lista_ordenada)\n",
        "\n",
        "#procedimiento para poder acceder a repositorios privados en Github.\n",
        "!pip install python-dotenv\n",
        "with open('.env', 'w') as f:\n",
        "    f.write('GITHUB_TOKEN=tu_token_aqui')\n",
        "\n",
        "from dotenv import load_dotenv\n",
        "import os\n",
        "\n",
        "# Cargar las variables de entorno desde el archivo .env\n",
        "load_dotenv()\n",
        "\n",
        "# Obtener el token de acceso personal\n",
        "token = os.getenv('GITHUB_TOKEN')\n",
        "\n",
        "# Clonar el repositorio privado usando el token\n",
        "os.system(f'git clone https://{token}@github.com/wilrodmo0576/03MIAR---Algoritmos-de-Optimizacion.git')"
      ]
    },
    {
      "cell_type": "code",
      "source": [],
      "metadata": {
        "id": "1cluUDg2vtkf"
      },
      "execution_count": null,
      "outputs": []
    }
  ]
}